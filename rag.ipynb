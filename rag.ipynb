{
 "cells": [
  {
   "cell_type": "markdown",
   "metadata": {},
   "source": [
    "# Installations"
   ]
  },
  {
   "cell_type": "code",
   "execution_count": null,
   "metadata": {},
   "outputs": [],
   "source": [
    "!curl -fsSL https://ollama.com/install.sh | sh\n",
    "!ollama pull mistral:instruct"
   ]
  },
  {
   "cell_type": "code",
   "execution_count": null,
   "metadata": {},
   "outputs": [],
   "source": [
    "%pip install pypdf -q\n",
    "%pip install faiss-cpu -q\n",
    "%pip install -U langchain-community\n",
    "%pip install langchain-ollama\n",
    "%pip install colorama"
   ]
  },
  {
   "cell_type": "markdown",
   "metadata": {},
   "source": [
    "# imports"
   ]
  },
  {
   "cell_type": "code",
   "execution_count": 2,
   "metadata": {},
   "outputs": [],
   "source": [
    "from typing import List, Dict, Optional\n",
    "from langchain_ollama import ChatOllama, OllamaEmbeddings\n",
    "from langchain.document_loaders import (\n",
    "    PyPDFLoader,\n",
    "    CSVLoader,\n",
    "    Docx2txtLoader,\n",
    "    UnstructuredExcelLoader\n",
    ")\n",
    "from langchain.vectorstores import FAISS\n",
    "from langchain_text_splitters import RecursiveCharacterTextSplitter\n",
    "from langchain_core.documents import Document\n",
    "from colorama import Fore"
   ]
  },
  {
   "cell_type": "markdown",
   "metadata": {},
   "source": [
    "# RAG"
   ]
  },
  {
   "cell_type": "code",
   "execution_count": 3,
   "metadata": {},
   "outputs": [],
   "source": [
    "class RAG:\n",
    "    def __init__(self):\n",
    "        self.embedder:object = OllamaEmbeddings(model=\"mistral:instruct\")\n",
    "        self.llm:object = ChatOllama(model=\"mistral:instruct\")\n",
    "        self.text_splitter:object = RecursiveCharacterTextSplitter(\n",
    "            chunk_size=1000,\n",
    "            chunk_overlap=200,\n",
    "        )\n",
    "        self.vector_db = object\n",
    "    \n",
    "    def load_documents(self, paths: List[str]) -> List[Document]:\n",
    "        \"\"\"Load and split documents from various file formats.\n",
    "        \n",
    "        Supported formats:\n",
    "        - PDF (.pdf) - uses PyPDFLoader\n",
    "        - CSV (.csv) - uses CSVLoader\n",
    "        - Word (.docx) - uses Docx2txtLoader\n",
    "        - Excel (.xlsx) - uses UnstructuredExcelLoader\n",
    "        \"\"\"\n",
    "        documents: list = []\n",
    "        for path in paths:\n",
    "            try:\n",
    "                if path.endswith('.pdf'):\n",
    "                    loader = PyPDFLoader(path)\n",
    "                    documents.extend(loader.load_and_split(self.text_splitter))\n",
    "                elif path.endswith('.csv'):\n",
    "                    loader = CSVLoader(path)\n",
    "                    documents.extend(loader.load_and_split(self.text_splitter))\n",
    "                elif path.endswith('.docx'):\n",
    "                    loader = Docx2txtLoader(path)\n",
    "                    documents.extend(loader.load_and_split(self.text_splitter))\n",
    "                elif path.endswith('.xlsx'):\n",
    "                    loader = UnstructuredExcelLoader(path)\n",
    "                    documents.extend(loader.load_and_split(self.text_splitter))\n",
    "            except Exception as e:\n",
    "                print(f\"Couldn't process {path}: {e}\")\n",
    "        return documents\n",
    "    \n",
    "    def create_vectorstore(self, documents: List[Document]) -> None:\n",
    "        \"\"\"Create our vector database\"\"\"\n",
    "        if not documents:\n",
    "            raise ValueError(\"No documents were successfully loaded\")\n",
    "        self.vector_db = FAISS.from_documents(documents, self.embedder)\n",
    "    \n",
    "    def analyze(self, pdf_paths: List[str], query: str):\n",
    "        \"\"\"Complete analysis pipeline\"\"\"\n",
    "        print(Fore.LIGHTBLUE_EX,f\"\\nAnalyzing {len(pdf_paths)} documents...\")\n",
    "        \n",
    "        # 1. Load documents\n",
    "        documents = self.load_documents(pdf_paths)\n",
    "        if not documents:\n",
    "            return \"No valid documents could be loaded\"\n",
    "        \n",
    "        # 2. Create vector store\n",
    "        self.create_vectorstore(documents)\n",
    "        \n",
    "        # 3. Retrieve relevant information\n",
    "        results = self.vector_db.similarity_search(query, k=3)\n",
    "        context = \"\\n\\n\".join(doc.page_content for doc in results)\n",
    "        \n",
    "        # 4. Generate answer\n",
    "        prompt = f\"\"\"\n",
    "        QUESTION: {query}\n",
    "        \n",
    "        RELEVANT INFORMATION:\n",
    "        {context}\n",
    "        \n",
    "        Please provide a comprehensive answer to the question using the above information.\n",
    "        \"\"\"\n",
    "        response = self.llm.invoke(prompt)\n",
    "        \n",
    "        print(\"\\n📝 RESULTS:\\n\")\n",
    "        return response.content\n"
   ]
  },
  {
   "cell_type": "code",
   "execution_count": 4,
   "metadata": {},
   "outputs": [
    {
     "name": "stdout",
     "output_type": "stream",
     "text": [
      "\u001b[94m \n",
      "Analyzing 3 documents...\n"
     ]
    },
    {
     "name": "stdout",
     "output_type": "stream",
     "text": [
      "\n",
      "📝 RESULTS:\n",
      "\n",
      " Python is a versatile and influential programming language that has played a significant role in modern computing, particularly in education. Its creator designed Python with a focus on simplicity and readability, aiming for a language that would allow programmers to write code more naturally. This philosophy has contributed to Python's gentle learning curve, making it an ideal choice for introducing students to programming.\n",
      "\n",
      "Python stands out from other programming languages due to its clean, straightforward code and the absence of strict syntax and verbose structures. It encourages experimentation and quick learning, empowering a new generation of programmers by lowering the barrier to entry, whether they are formal students or self-learners.\n",
      "\n",
      "One aspect where Python may not perform as well is in performance-critical tasks like operating system development or real-time applications, given that it is an interpreted language and generally slower than compiled languages such as C++ or Java. However, these shortcomings can often be mitigated by using Python appropriately, such as incorporating existing systems or optimizing performance through integration with other languages like C, C++, or Java.\n",
      "\n",
      "Despite its limitations, Python's popularity continues to grow across various industries, shaping everything from scientific research to artificial intelligence. Its open and collaborative community actively develops new libraries to extend its capabilities in areas such as artificial intelligence and blockchain applications. Furthermore, Python's cross-platform compatibility allows it to run on different operating systems like Windows, macOS, and Linux without requiring significant adjustments to the code. This flexibility makes Python highly practical for developers working in diverse environments.\n",
      "\n",
      "In summary, Python is a versatile and powerful language that is easy to learn, encouraging experimentation and rapid learning for students and self-learners alike. Despite some limitations in performance-critical tasks, Python has found widespread use across industries due to its simplicity, cross-platform compatibility, and the continuous development of new libraries. Its popularity and growing impact demonstrate its significance in shaping the modern era of computing. \n",
      "\n",
      "\u001b[94m \n",
      "Analyzing 3 documents...\n",
      "\n",
      "📝 RESULTS:\n",
      "\n",
      " The languages Python, Java, and Rust each have their unique strengths and are suited for different scenarios due to their distinct features and characteristics.\n",
      "\n",
      "Python is a high-level, interpreted language known for its simplicity and readability. It balances power with accessibility, making it an excellent choice for beginners as well as professionals in various fields like artificial intelligence, machine learning, data analysis, web development, and scientific computing. Python's clean syntax allows developers to focus more on logic than syntax, which speeds up the development process. Additionally, its cross-platform compatibility ensures that the same code can run on different operating systems with minimal adjustments. Integration capabilities enable Python to communicate with other languages like C, C++, and Java for performance optimization or utilizing existing systems.\n",
      "\n",
      "Java, on the other hand, is a statically typed, compiled language primarily used in enterprise-level applications. It was initially designed for building large-scale, distributed, and secure network applications. Java's architecture enables the writing of once-for-all code that can run on multiple platforms without recompilation, making it an attractive choice for creating apps that need to run across various devices and systems. Java is also object-oriented, which helps developers organize their code into modular, reusable components.\n",
      "\n",
      "Rust is a relatively new systems programming language focused on performance, reliability, and safety. It addresses some of the shortcomings of C++ by providing memory safety without requiring a garbage collector. Rust offers developers powerful tools for building reliable and efficient software. Although it requires an initial learning curve, the benefits of Rust make it an attractive choice for systems programming tasks like operating system development or real-time applications where speed is essential. Rust's ecosystem continues to expand, making it a transformative force in the programming world and shaping the future of systems programming.\n",
      "\n",
      "In summary, Python stands out due to its simplicity, wide range of applications, and thriving community, making it an ideal choice for rapid prototyping, ease of development, and integration with other languages. Java is best suited for enterprise-level applications that require large-scale, distributed, and secure network capabilities. Rust is a powerful tool for building reliable and efficient software in systems programming tasks where speed is crucial. Choosing the right language depends on the specific needs of your project, whether it's ease of development, performance, or platform compatibility.\n"
     ]
    }
   ],
   "source": [
    "analyzer:object = RAG()\n",
    "\n",
    "documents:list[str] = ['java.pdf','python.pdf','rust.pdf']\n",
    "\n",
    "prompt1:str = \"tell me about python\"\n",
    "\n",
    "result1 = analyzer.analyze(documents, prompt1)\n",
    "print(result1,'\\n')\n",
    "\n",
    "prompt2:str = \"what is the difference between python , java and rust ?\"\n",
    "\n",
    "result2 = analyzer.analyze(documents, prompt2)\n",
    "print(result2)"
   ]
  }
 ],
 "metadata": {
  "language_info": {
   "name": "python"
  }
 },
 "nbformat": 4,
 "nbformat_minor": 2
}
